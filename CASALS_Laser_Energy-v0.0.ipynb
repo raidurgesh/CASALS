{
 "cells": [
  {
   "cell_type": "code",
   "execution_count": null,
   "id": "ee263d69",
   "metadata": {},
   "outputs": [],
   "source": [
    "# Calculations on the Lagacy system for Cross verfication of method\n",
    "\n",
    "import numpy as np\n",
    "import matplotlib.pyplot as plt\n",
    "\n",
    "#Wavelength and Spectral Properties (from CASALS Aircraft Mission)\n",
    "\n",
    "center_wavelength_nm = 1040                      # nanometers\n",
    "wavelength_span_nm = 14                          # nanometers\n",
    "num_wavelengths_per_sweep = 256\n",
    "frequency_space_ghz = 14.4                       # GHz\n",
    "angle_separation_urad = 51.8                     # µrad\n",
    "total_angle_span_mrad = 13.074                   # mrad\n",
    "separation_on_ground_m = 0.232                   # at 4.5 km altitude\n",
    "\n",
    "# Timing and Sweep Properties\n",
    "laser_sweep_rate_khz = 4.5                       # kHz\n",
    "sweeps_per_cycle = 8\n",
    "selected_wavelengths_per_sweep = 30\n",
    "\n",
    "# Laser Pulse and Optical Performance\n",
    "lidar_pulse_width_ns = 2                         # ns\n",
    "detector_output_pulse_width_ns = 10              # ns\n",
    "lidar_peak_power_w = 723                         # W\n",
    "transmitter_power_w = 0.222                      # W\n",
    "transmitter_throughput = 0.90                    # unitless\n",
    "\n",
    "# Beam and Optical Quality\n",
    "laser_spot_size_ground_m = 0.233                 # meters (FWHM at 4.5 km)\n",
    "beam_quality_m2 = 1.1\n",
    "\n",
    "# Flight Configuration\n",
    "airplane_speed_mps = 115                         # m/s\n",
    "airplane_movement_per_8_sweeps_m = 0.203         # m\n",
    "grating_lines_per_mm = 1500\n",
    "telescope_aperture_cm = 60                       # cm\n",
    "\n",
    "# Wavelength Spread Setup\n",
    "wavelength_TM = np.linspace(1033, 1047, 257)     # nm\n",
    "grating_angle_deg = np.linspace(-22.5, 22.5, 257)  # degrees\n",
    "\n",
    "# Spot and Span Size Calculations\n",
    "altitudes = [4.5e3, 500e3]  # meters: 4.5 km and 500 km\n",
    "\n",
    "for alt in altitudes:\n",
    "    spot_size = alt * angle_separation_urad * 1e-6       # m\n",
    "    span_size = alt * total_angle_span_mrad * 1e-3       # m\n",
    "    print(f\"--- Altitude: {alt/1e3:.1f} km ---\")\n",
    "    print(f\"Spot size on ground = {spot_size:.3f} m\")\n",
    "    print(f\"Span size on ground = {span_size:.3f} m\\n\")\n",
    "\n",
    "\n",
    "# Optional Plotting Section\n",
    "plt.figure(figsize=(10, 5))\n",
    "plt.plot(wavelength_TM, grating_angle_deg, color='teal', linewidth=2)\n",
    "plt.title(\"Grating Angle vs Wavelength\")\n",
    "plt.xlabel(\"Wavelength (nm)\")\n",
    "plt.ylabel(\"Grating Angle (degrees)\")\n",
    "plt.grid(True)\n",
    "plt.tight_layout()\n",
    "plt.show()"
   ]
  },
  {
   "cell_type": "code",
   "execution_count": 3,
   "id": "218917c4",
   "metadata": {},
   "outputs": [
    {
     "name": "stdout",
     "output_type": "stream",
     "text": [
      "=== Grating Divergence Calculations ===\n",
      "Grating: 1500 lines/mm\n",
      "Wavelength span: 14 nm around 1040 nm\n",
      "Altitude: 500 km\n",
      "Angular divergence: 21 mrad\n",
      "Angular divergence: 1.20 degrees\n",
      "Beam footprint on ground: 10.50 km\n"
     ]
    }
   ],
   "source": [
    "# Clean calculation using a grating with 1500 LPM\n",
    "\n",
    "import numpy as np\n",
    "import matplotlib.pyplot as plt\n",
    "\n",
    "# Constants\n",
    "c = 299792458  # speed of light in m/s\n",
    "\n",
    "# Input Parameters\n",
    "grating_lpm = 1500                      # lines per mm\n",
    "center_wavelength_nm = 1040            # central wavelength (nm)\n",
    "wavelength_span_nm = 14                # total span (nm)\n",
    "altitude_km = 500                      # observation altitude (km)\n",
    "\n",
    "# Derived Values\n",
    "d = 1 / (grating_lpm * 1e3)            # groove spacing in meters\n",
    "lambda_center = center_wavelength_nm * 1e-9\n",
    "delta_lambda = wavelength_span_nm * 1e-9\n",
    "altitude_m = altitude_km * 1e3\n",
    "\n",
    "# Angular divergence (small angle approx)\n",
    "delta_theta_rad = delta_lambda / d\n",
    "\n",
    "# Ground footprint\n",
    "footprint_m = altitude_m * delta_theta_rad\n",
    "footprint_km = footprint_m / 1000\n",
    "\n",
    "# Print summary\n",
    "print(\"=== Grating Divergence Calculations ===\")\n",
    "print(f\"Grating: {grating_lpm} lines/mm\")\n",
    "print(f\"Wavelength span: {wavelength_span_nm} nm around {center_wavelength_nm} nm\")\n",
    "print(f\"Altitude: {altitude_km} km\")\n",
    "print(f\"Angular divergence: {delta_theta_rad*1e3:.0f} mrad\")\n",
    "print(f\"Angular divergence: {np.degrees(delta_theta_rad):.2f} degrees\")\n",
    "print(f\"Beam footprint on ground: {footprint_km:.2f} km\")"
   ]
  },
  {
   "cell_type": "code",
   "execution_count": 10,
   "id": "6d79f9d6",
   "metadata": {},
   "outputs": [
    {
     "name": "stdout",
     "output_type": "stream",
     "text": [
      " #Spots to cover 1km swath: 167\n",
      " Rep Rate: 196.06 kHz\n"
     ]
    }
   ],
   "source": [
    "#The rep rate is 7058/(6/167). \n",
    "#it is how many laser spots are needed in a second to get a 6mX6m area as a pixel, with 167 pixels across flight \n",
    "#resulting in a 1km X 6m area scan/swath\n",
    "\n",
    "SC_speed_ground=7058   #in m/s\n",
    "GSD=6                  #Ground Sample Distance in m\n",
    "Swath_width=1000       #in m\n",
    "\n",
    "Number_spot=Swath_width/GSD\n",
    "RepRate=SC_speed_ground/(GSD/Number_spot)\n",
    "print(f\" #Spots to cover 1km swath: {Number_spot:.0f}\")\n",
    "print(f\" Rep Rate: {RepRate*1e-3:.2f} kHz\")"
   ]
  },
  {
   "cell_type": "code",
   "execution_count": 5,
   "id": "e42d702c",
   "metadata": {},
   "outputs": [
    {
     "name": "stdout",
     "output_type": "stream",
     "text": [
      " Laser Power: 29.4672 W\n"
     ]
    }
   ],
   "source": [
    "RepRate = 196448                 # Rep Rate\n",
    "pulse_energy_J = 1.5e-4            # Energy per pulse in joules\n",
    "\n",
    "Laser_power=RepRate*pulse_energy_J\n",
    "\n",
    "print(f\" Laser Power: {Laser_power:.4f} W\")"
   ]
  },
  {
   "cell_type": "code",
   "execution_count": 13,
   "id": "ca86c587",
   "metadata": {},
   "outputs": [
    {
     "name": "stdout",
     "output_type": "stream",
     "text": [
      " Rep Rate: 196.45 kHz\n",
      " Duty Cycle: 0.0393 %\n"
     ]
    }
   ],
   "source": [
    "LaserPower = Laser_power            # Laser power in watts\n",
    "pulse_energy_J = 1.5e-4             # Energy per pulse in joules\n",
    "RepRate = 196448                 # Rep Rate\n",
    "\n",
    "Duty_cycle=100*RepRate*2e-9\n",
    "\n",
    "print(f\" Rep Rate: {RepRate/1e3:.2f} kHz\")\n",
    "print(f\" Duty Cycle: {Duty_cycle:.4f} %\")"
   ]
  },
  {
   "cell_type": "code",
   "execution_count": 14,
   "id": "ef3cd094",
   "metadata": {},
   "outputs": [
    {
     "name": "stdout",
     "output_type": "stream",
     "text": [
      " Gap between pulse: 5090.41 ns\n",
      " True gap between 2ns pulse: 5088.41 ns\n"
     ]
    }
   ],
   "source": [
    "# calculate gap between pulse\n",
    "Pulse_time_with_gap=1/RepRate\n",
    "\n",
    "print(f\" Gap between pulse: {Pulse_time_with_gap*1e9:.2f} ns\")\n",
    "print(f\" True gap between 2ns pulse: {Pulse_time_with_gap*1e9-2:.2f} ns\")"
   ]
  },
  {
   "cell_type": "code",
   "execution_count": 15,
   "id": "1ea012bb",
   "metadata": {},
   "outputs": [
    {
     "name": "stdout",
     "output_type": "stream",
     "text": [
      " pulse travel distance: 0.60 m\n",
      " distance gap between 2ns pulse: 1.525 km\n"
     ]
    }
   ],
   "source": [
    "# Calculate distances for the pulse and between two pulses\n",
    "distance_2ns=2e-9*c\n",
    "Pulse_gap_m=(Pulse_time_with_gap*1e9-2)*1e-9*c\n",
    "\n",
    "print(f\" pulse travel distance: {distance_2ns:.2f} m\")\n",
    "print(f\" distance gap between 2ns pulse: {Pulse_gap_m/1e3:.3f} km\")"
   ]
  },
  {
   "cell_type": "code",
   "execution_count": 16,
   "id": "ca42a6f7",
   "metadata": {},
   "outputs": [
    {
     "name": "stdout",
     "output_type": "stream",
     "text": [
      " SC travel distance on ground in 2ns: 14.12 µm\n",
      " SC travel disstance between 2ns pulse: 35.949 mm\n"
     ]
    }
   ],
   "source": [
    "# Calculate distances travelled by SC on ground\n",
    "\n",
    "# Constants\n",
    "G = 6.67430e-11  # m^3/kg/s^2\n",
    "M_earth = 5.972e24  # kg\n",
    "R_earth = 6371e3  # m\n",
    "altitude = 500e3  # m\n",
    "\n",
    "# Orbital radius\n",
    "r = R_earth + altitude\n",
    "\n",
    "# Circular orbital velocity 𝑣 = √𝐺𝑀/r\n",
    "v = np.sqrt(G * M_earth / r)\n",
    "\n",
    "# Relative velocity on earth, or Ground speed, ve = v*R_earth/r\n",
    "ve = v*R_earth/r\n",
    "\n",
    "SC_distance_2ns=2*1e-9*ve\n",
    "SC_pulse_gap_m=(Pulse_time_with_gap)*ve\n",
    "\n",
    "print(f\" SC travel distance on ground in 2ns: {SC_distance_2ns*1e6:.2f} µm\")\n",
    "print(f\" SC travel distance between 2ns pulse: {SC_pulse_gap_m*1e3:.3f} mm\")"
   ]
  },
  {
   "cell_type": "code",
   "execution_count": 18,
   "id": "aa4929d3",
   "metadata": {},
   "outputs": [
    {
     "name": "stdout",
     "output_type": "stream",
     "text": [
      " Spots to cover 1km swath: 167\n",
      " Rep Rate: 196.06 kHz\n",
      " Gap between pulse: 5100.60 ns\n",
      " True gap between 2ns pulse: 5098.60 ns\n",
      " Swath Scan Time: 0.8501 ms\n",
      " Swath Frequency: 1.1763 kHz\n"
     ]
    }
   ],
   "source": [
    "# Calculation for time it takes to perform a swath (should be 167*5090.41 ns)\n",
    "\n",
    "SC_speed_ground=7058   #in m/s\n",
    "GSD=6                  #Ground Sample Distance in m\n",
    "Swath_width=1000       #in m\n",
    "\n",
    "Number_spot=Swath_width/GSD\n",
    "RepRate=SC_speed_ground/(GSD/Number_spot)\n",
    "#Swath_Rep_Rate=\n",
    "print(f\" Spots to cover 1km swath: {Number_spot:.0f}\")\n",
    "print(f\" Rep Rate: {RepRate*1e-3:.2f} kHz\")\n",
    "\n",
    "# calculate gap between pulse\n",
    "Pulse_time_with_gap=1/RepRate\n",
    "\n",
    "# swath time and frequency\n",
    "Time_for_swath=Pulse_time_with_gap*Number_spot\n",
    "Freq_swath=1/Time_for_swath\n",
    "\n",
    "print(f\" Gap between pulse: {Pulse_time_with_gap*1e9:.2f} ns\")\n",
    "print(f\" True gap between 2ns pulse: {Pulse_time_with_gap*1e9-2:.2f} ns\")\n",
    "print(f\" Swath Scan Time: {Time_for_swath*1e3:.4f} ms\")\n",
    "print(f\" Swath Frequency: {Freq_swath*1e-3:.4f} kHz\")"
   ]
  },
  {
   "cell_type": "code",
   "execution_count": 19,
   "id": "afd5c649",
   "metadata": {},
   "outputs": [
    {
     "name": "stdout",
     "output_type": "stream",
     "text": [
      " GSD: 6.0 m\n"
     ]
    }
   ],
   "source": [
    "# Time_for_swath*ground speed of SC should give GSD in m\n",
    "print(f\" GSD: {Time_for_swath*SC_speed_ground:.1f} m\")"
   ]
  },
  {
   "cell_type": "code",
   "execution_count": 16,
   "id": "0cfce93e",
   "metadata": {},
   "outputs": [
    {
     "name": "stdout",
     "output_type": "stream",
     "text": [
      " GSD: 0.8501 ms\n"
     ]
    }
   ],
   "source": [
    "# swath time in ms\n",
    "print(f\" GSD: {167*5090.41/1e6:.4f} ms\")"
   ]
  }
 ],
 "metadata": {
  "kernelspec": {
   "display_name": "Python 3 (ipykernel)",
   "language": "python",
   "name": "python3"
  },
  "language_info": {
   "codemirror_mode": {
    "name": "ipython",
    "version": 3
   },
   "file_extension": ".py",
   "mimetype": "text/x-python",
   "name": "python",
   "nbconvert_exporter": "python",
   "pygments_lexer": "ipython3",
   "version": "3.10.9"
  }
 },
 "nbformat": 4,
 "nbformat_minor": 5
}
