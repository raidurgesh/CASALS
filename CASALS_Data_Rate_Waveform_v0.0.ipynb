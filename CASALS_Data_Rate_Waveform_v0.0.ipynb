{
 "cells": [
  {
   "cell_type": "code",
   "execution_count": 1,
   "id": "471c27cb",
   "metadata": {},
   "outputs": [
    {
     "name": "stdout",
     "output_type": "stream",
     "text": [
      "=== Waveform CASALS Data Rate Calculation ===\n",
      "Enter Pulse Repetition Frequency per channel (Hz) [196448]: \n",
      "Enter number of samples per waveform [100]: \n",
      "Enter number of bits per sample [12]: \n",
      "Enter number of CASALS channels [128]: \n",
      "\n",
      "=== Waveform CASALS Data Rate Results ===\n",
      "Data Rate: 3.02e+10 bits per second\n",
      "Data Rate: 3771.80 Megabytes per second\n"
     ]
    }
   ],
   "source": [
    "###### Waveform CASALS Data Rate Calculation\n",
    "\n",
    "def calculate_waveform_casals_data_rate(PRF, samples_per_waveform, bits_per_sample, num_channels):\n",
    "    \"\"\"\n",
    "    Calculate the data rate for a waveform LiDAR system.\n",
    "    \"\"\"\n",
    "    data_rate_bps = PRF * samples_per_waveform * bits_per_sample * num_channels  # bits per second\n",
    "    data_rate_MBps = data_rate_bps / (8 * 10**6)  # Convert bits per second to Megabytes per second\n",
    "    return data_rate_bps, data_rate_MBps\n",
    "\n",
    "# Default Parameters\n",
    "default_PRF = 196448              # Hz\n",
    "default_samples_per_waveform = 100 # samples\n",
    "default_bits_per_sample = 12       # bits\n",
    "default_num_channels = 128          # channels\n",
    "\n",
    "# User Input with Defaults\n",
    "print(\"=== Waveform CASALS Data Rate Calculation ===\")\n",
    "\n",
    "try:\n",
    "    PRF = input(f\"Enter Pulse Repetition Frequency per channel (Hz) [{default_PRF}]: \") or default_PRF\n",
    "    PRF = float(PRF)\n",
    "\n",
    "    samples_per_waveform = input(f\"Enter number of samples per waveform [{default_samples_per_waveform}]: \") or default_samples_per_waveform\n",
    "    samples_per_waveform = int(samples_per_waveform)\n",
    "\n",
    "    bits_per_sample = input(f\"Enter number of bits per sample [{default_bits_per_sample}]: \") or default_bits_per_sample\n",
    "    bits_per_sample = int(bits_per_sample)\n",
    "\n",
    "    num_channels = input(f\"Enter number of CASALS channels [{default_num_channels}]: \") or default_num_channels\n",
    "    num_channels = int(num_channels)\n",
    "\n",
    "    # Calculate Data Rate\n",
    "    data_rate_bps, data_rate_MBps = calculate_waveform_casals_data_rate(PRF, samples_per_waveform, bits_per_sample, num_channels)\n",
    "\n",
    "    # Display Results\n",
    "    print(\"\\n=== Waveform CASALS Data Rate Results ===\")\n",
    "    print(f\"Data Rate: {data_rate_bps:.2e} bits per second\")\n",
    "    print(f\"Data Rate: {data_rate_MBps:.2f} Megabytes per second\")\n",
    "\n",
    "except ValueError:\n",
    "    print(\"Invalid input. Please enter numeric values.\")\n"
   ]
  },
  {
   "cell_type": "code",
   "execution_count": null,
   "id": "3203d732",
   "metadata": {},
   "outputs": [],
   "source": []
  }
 ],
 "metadata": {
  "kernelspec": {
   "display_name": "Python 3 (ipykernel)",
   "language": "python",
   "name": "python3"
  },
  "language_info": {
   "codemirror_mode": {
    "name": "ipython",
    "version": 3
   },
   "file_extension": ".py",
   "mimetype": "text/x-python",
   "name": "python",
   "nbconvert_exporter": "python",
   "pygments_lexer": "ipython3",
   "version": "3.10.9"
  }
 },
 "nbformat": 4,
 "nbformat_minor": 5
}
